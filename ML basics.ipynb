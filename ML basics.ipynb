{
  "cells": [
    {
      "cell_type": "markdown",
      "id": "10599772-84fc-408e-b277-eac32171517d",
      "metadata": {
        "tags": [],
        "id": "10599772-84fc-408e-b277-eac32171517d"
      },
      "source": [
        "# Basics of Machine Learning\n",
        "\n",
        "**Суть работы**\n",
        "\n",
        "В этой работе мы рассмотрим два подхода в области обучения с учителем в машинном обучении:\n",
        "1. Классификация\n",
        "2. Регрессия\n",
        "\n",
        "*Немного определений:*\n",
        "\n",
        "## **Регрессия**\n",
        "\n",
        "Регрессия является еще одним важным и широко используемым инструментом статистического и машинного обучения. Основная цель задач на основе регрессии — предсказать выходные метки или ответы, которые являются продолженными числовыми значениями, для заданных входных данных. Результат будет основан на том, что модель выучила на этапе обучения. В основном, регрессионные модели используют функции входных данных (независимые переменные) и соответствующие им непрерывные числовые выходные значения (зависимые или выходные переменные), чтобы узнать конкретную связь между входными данными и соответствующими выходными данными.\n",
        "\n",
        "### Основные методы регрессии\n",
        "\n",
        "#### [LinearRegression](https://scikit-learn.org/stable/modules/generated/sklearn.linear_model.LinearRegression.html)\n",
        "\n",
        "Линейная регрессия используется для прогнозирования взаимосвязи между двумя переменными путем применения линейного уравнения к наблюдаемым данным. Существует два типа переменных, одна переменная называется независимой переменной, а другая - зависимой переменной\n",
        "\n",
        "```python\n",
        ">>> import numpy as np\n",
        ">>> from sklearn.linear_model import LinearRegression\n",
        ">>> X = np.array([[1, 1], [1, 2], [2, 2], [2, 3]])\n",
        ">>> # y = 1 * x_0 + 2 * x_1 + 3\n",
        ">>> y = np.dot(X, np.array([1, 2])) + 3\n",
        ">>> reg = LinearRegression().fit(X, y)\n",
        ">>> reg.score(X, y)\n",
        "1.0\n",
        ">>> reg.coef_\n",
        "array([1., 2.])\n",
        ">>> reg.intercept_\n",
        "3.0...\n",
        ">>> reg.predict(np.array([[3, 5]]))\n",
        "array([16.])\n",
        "```\n",
        "\n",
        "#### [KNeighborsRegressor](https://scikit-learn.org/stable/modules/generated/sklearn.neighbors.KNeighborsRegressor.html#sklearn.neighbors.KNeighborsRegressor)\n",
        "\n",
        "#### [DecisionTreeRegressor](https://scikit-learn.org/stable/modules/generated/sklearn.tree.DecisionTreeRegressor.html#sklearn.tree.DecisionTreeRegressor)\n",
        "\n",
        "## **Классификация**\n",
        "\n",
        "Модели классификации используются для принятия решений или распределения элементов по категориям. В отличие от регрессионных моделей, которые возвращают числа в непрерывном диапазоне, такие как значения роста или веса, модели классификации возвращают логические значения (true или false) или решения в виде категорий, таких как \"яблоко\", \"банан\" или \"вишня\".\n",
        "\n",
        "### Основные методы классификации\n",
        "\n",
        "#### [LogisticRegreession](https://scikit-learn.org/stable/modules/generated/sklearn.linear_model.LogisticRegression.html)\n",
        "\n",
        "Логистическая регрессия — это модель классификации, которая работает аналогично линейной регрессии.\n",
        "\n",
        "Логистическая регрессия лучше подходит для оценки логических результатов, чем линейная, так как логистическая кривая всегда дает значение от 0 (false, ложь) до 1 (true, истина). Любое значение между этими двумя пороговыми уровнями можно рассматривать как вероятность.\n",
        "\n",
        "Например, предположим, мы пытаемся предсказать, сойдет ли сегодня лавина. Если наша модель логистической регрессии дает нам значение 0,3, то вероятность лавины оценивается в 30 %.\n",
        "\n",
        "Ниже представлен пример реализации \n",
        "```python\n",
        ">>> from sklearn.datasets import load_iris\n",
        ">>> from sklearn.linear_model import LogisticRegression\n",
        ">>> X, y = load_iris(return_X_y=True)\n",
        ">>> clf = LogisticRegression(random_state=0).fit(X, y)\n",
        ">>> clf.predict(X[:2, :])\n",
        "array([0, 0])\n",
        ">>> clf.predict_proba(X[:2, :])\n",
        "array([[9.8...e-01, 1.8...e-02, 1.4...e-08],\n",
        "       [9.7...e-01, 2.8...e-02, ...e-08]])\n",
        ">>> clf.score(X, y)\n",
        "0.97...\n",
        "```\n",
        "\n",
        "#### [Support Vector Classification](https://scikit-learn.org/stable/modules/generated/sklearn.svm.SVC.html#sklearn.svm.SVC)\n",
        "\n",
        "#### [Nearest Neighbors Classification](https://scikit-learn.org/stable/modules/neighbors.html#nearest-neighbors-classification)\n",
        "\n",
        "#### [DecisionTreeClassifier](https://scikit-learn.org/stable/modules/generated/sklearn.tree.DecisionTreeClassifier.html#sklearn.tree.DecisionTreeClassifier)\n",
        "\n",
        "## Общий пайплайн в решении задач машинного обучения\n",
        "\n",
        "1. Чтение данных\n",
        "2. Предобработка данных:\n",
        "    1. Нормализация\n",
        "    2. Кодирование данных: *(мужчина/женщина -> 0/1)*\n",
        "    3. [Дискретизация данных](https://scikit-learn.org/stable/modules/preprocessing.html#discretization)\n",
        "3. Разбиение на обучающую и тестовую выборки\n",
        "4. Работа с моделями:\n",
        "    1. Обучение на обучающих данных\n",
        "    2. Получение метрики на тестовых данных\n",
        "    3. Анализ результата\n",
        "5. Применение методики кросс-валидации для предотвращения переобучения модели\n",
        "6. Поиск лучших параметров для моделей в рамках задачи\n",
        "\n",
        "## Приложение\n",
        "\n",
        "1. [SKlearn](https://scikit-learn.org/stable/index.html) - библиотека для работы с моделями машинного обучения, предобработки данных и визуализации\n",
        "2. [CatBoost](https://catboost.ai/en/docs/) - продвинутая библиотека для реализации моделей ансамблей деревьев выбора \n",
        "\n",
        "## Пример ответного файла\n",
        "\n",
        "Пример файла результата представлен в `test_submission.csv`.\n",
        "\n",
        "### **Как называть файл?**\n",
        "Файл называть следует в соответствии со своей фамилией. Например, если работу выполняли два человека, называть файл следует:\n",
        "\n",
        "**`Ivanov_Petrov.csv`**\n",
        "\n",
        "Загружать файл с результатом также необходимо в форму"
      ]
    },
    {
      "cell_type": "code",
      "execution_count": 30,
      "id": "2e8537b7",
      "metadata": {
        "id": "2e8537b7"
      },
      "outputs": [],
      "source": [
        "import pandas as pd\n",
        "import matplotlib.pyplot as plt\n",
        "import numpy as np\n",
        "\n",
        "from sklearn.model_selection import train_test_split, cross_val_score, GridSearchCV\n",
        "from sklearn.linear_model import LinearRegression, LogisticRegression\n",
        "from sklearn.tree import DecisionTreeRegressor, DecisionTreeClassifier\n",
        "from sklearn.neighbors import KNeighborsRegressor, KNeighborsClassifier\n",
        "from sklearn.svm import SVC\n",
        "from sklearn.metrics import f1_score, mean_squared_error\n",
        "\n",
        "train_df = pd.read_csv('train.csv')\n",
        "test_df = pd.read_csv('test.csv')"
      ]
    },
    {
      "cell_type": "code",
      "source": [
        "train_df.target_1.hist(bins=100)"
      ],
      "metadata": {
        "id": "HodlHVanRRqF",
        "outputId": "b68ac9ad-ce77-45c2-8d87-12e2ef34f9ed",
        "colab": {
          "base_uri": "https://localhost:8080/",
          "height": 283
        }
      },
      "id": "HodlHVanRRqF",
      "execution_count": 31,
      "outputs": [
        {
          "output_type": "execute_result",
          "data": {
            "text/plain": [
              "<matplotlib.axes._subplots.AxesSubplot at 0x7efc6592ea10>"
            ]
          },
          "metadata": {},
          "execution_count": 31
        },
        {
          "output_type": "display_data",
          "data": {
            "text/plain": [
              "<Figure size 432x288 with 1 Axes>"
            ],
            "image/png": "[encoded data removed]"
          },
          "metadata": {
            "needs_background": "light"
          }
        }
      ]
    },
    {
      "cell_type": "code",
      "source": [
        "train_df.target_2.hist(bins=100)"
      ],
      "metadata": {
        "id": "Vnak0-s4Q-G9",
        "outputId": "3a27be73-b6eb-4a7d-8538-41cbcfa9a262",
        "colab": {
          "base_uri": "https://localhost:8080/",
          "height": 283
        }
      },
      "id": "Vnak0-s4Q-G9",
      "execution_count": 32,
      "outputs": [
        {
          "output_type": "execute_result",
          "data": {
            "text/plain": [
              "<matplotlib.axes._subplots.AxesSubplot at 0x7efc62f3dbd0>"
            ]
          },
          "metadata": {},
          "execution_count": 32
        },
        {
          "output_type": "display_data",
          "data": {
            "text/plain": [
              "<Figure size 432x288 with 1 Axes>"
            ],
            "image/png": "[encoded data removed]"
          },
          "metadata": {
            "needs_background": "light"
          }
        }
      ]
    },
    {
      "cell_type": "markdown",
      "id": "fec6a762",
      "metadata": {
        "id": "fec6a762"
      },
      "source": [
        "train dataset -> training and validation"
      ]
    },
    {
      "cell_type": "code",
      "execution_count": 33,
      "id": "ff9fc712",
      "metadata": {
        "id": "ff9fc712"
      },
      "outputs": [],
      "source": [
        "def train_test_split(train, random_seed=1, validation_size=0.8):\n",
        "    np.random.seed(random_seed)\n",
        "    split_index = int(train.shape[0] * validation_size)\n",
        "    train = train.iloc[np.random.permutation(train_df.shape[0])]\n",
        "    train_dataset = train.iloc[: split_index]\n",
        "    val_dataset = train.iloc[split_index : ]\n",
        "    return train_dataset, val_dataset"
      ]
    },
    {
      "cell_type": "code",
      "execution_count": 34,
      "id": "5201e3ce",
      "metadata": {
        "id": "5201e3ce",
        "outputId": "7629a653-80a6-4d25-f360-5b3686bfe8d9",
        "colab": {
          "base_uri": "https://localhost:8080/"
        }
      },
      "outputs": [
        {
          "output_type": "execute_result",
          "data": {
            "text/plain": [
              "((5600, 14), (1400, 14))"
            ]
          },
          "metadata": {},
          "execution_count": 34
        }
      ],
      "source": [
        "train_dataset, val_dataset = train_test_split(train_df, random_seed=1, validation_size=0.8)\n",
        "train_dataset.shape, val_dataset.shape"
      ]
    },
    {
      "cell_type": "code",
      "execution_count": 35,
      "id": "0d60a7af",
      "metadata": {
        "id": "0d60a7af"
      },
      "outputs": [],
      "source": [
        "train_feature = train_dataset.drop(columns=['target_1', 'target_2'])\n",
        "train_target = train_dataset[['target_1', 'target_2']].values\n",
        "\n",
        "val_feature = val_dataset.drop(columns=['target_1', 'target_2']).values\n",
        "val_target = val_dataset[['target_1', 'target_2']].values"
      ]
    },
    {
      "cell_type": "code",
      "execution_count": 36,
      "id": "155f205b",
      "metadata": {
        "id": "155f205b",
        "outputId": "4860513c-76ac-47aa-c1bf-0a79d81b3b91",
        "colab": {
          "base_uri": "https://localhost:8080/",
          "height": 281
        }
      },
      "outputs": [
        {
          "output_type": "display_data",
          "data": {
            "text/plain": [
              "<Figure size 432x288 with 16 Axes>"
            ],
            "image/png": "[encoded data removed]"
          },
          "metadata": {
            "needs_background": "light"
          }
        }
      ],
      "source": [
        "ax = train_dataset.hist()"
      ]
    },
    {
      "cell_type": "code",
      "execution_count": 37,
      "id": "b27dd7bd",
      "metadata": {
        "id": "b27dd7bd",
        "outputId": "41a2b9dd-b267-4e2d-9a85-48f4a0b42f10",
        "colab": {
          "base_uri": "https://localhost:8080/",
          "height": 364
        }
      },
      "outputs": [
        {
          "output_type": "execute_result",
          "data": {
            "text/plain": [
              "         feature_1    feature_2    feature_3    feature_4    feature_5  \\\n",
              "count  5600.000000  5600.000000  5600.000000  5600.000000  5600.000000   \n",
              "mean      5.241613     5.207249     5.266892     5.240435     3.737027   \n",
              "std       2.731169     2.738920     2.748180     2.737785     0.755338   \n",
              "min       0.500793     0.500141     0.500788     0.501571     1.642860   \n",
              "25%       2.895017     2.816258     2.887539     2.867341     3.198132   \n",
              "50%       5.242610     5.217905     5.287087     5.244472     3.730667   \n",
              "75%       7.608702     7.549617     7.657545     7.601236     4.279071   \n",
              "max       9.999469     9.999837     9.995595     9.998912     5.864418   \n",
              "\n",
              "         feature_6    feature_7    feature_8    feature_9   feature_10  \\\n",
              "count  5600.000000  5600.000000  5600.000000  5600.000000  5600.000000   \n",
              "mean     -1.244144    -1.247699    -1.245183     0.520054     0.526568   \n",
              "std       0.432155     0.429315     0.437041     0.272903     0.275228   \n",
              "min      -1.999891    -1.999945    -1.999926     0.050212     0.050130   \n",
              "25%      -1.616922    -1.615806    -1.624247     0.286035     0.287594   \n",
              "50%      -1.240656    -1.246085    -1.244799     0.518623     0.527188   \n",
              "75%      -0.869939    -0.880249    -0.864824     0.755112     0.766990   \n",
              "max      -0.500274    -0.500072    -0.500025     0.999937     0.999944   \n",
              "\n",
              "        feature_11   feature_12     target_1     target_2  \n",
              "count  5600.000000  5600.000000  5600.000000  5600.000000  \n",
              "mean      0.527825     0.525716     0.015508     0.368929  \n",
              "std       0.276045     0.274612     0.037146     0.482558  \n",
              "min       0.050054     0.050458    -0.069501     0.000000  \n",
              "25%       0.289030     0.287074    -0.015961     0.000000  \n",
              "50%       0.532050     0.530605     0.016719     0.000000  \n",
              "75%       0.766302     0.761286     0.044651     1.000000  \n",
              "max       0.999839     0.999640     0.109403     1.000000  "
            ],
            "text/html": [
              "\n",
              "  <div id=\"df-520603fb-421a-4127-a565-a11261a3c67b\">\n",
              "    <div class=\"colab-df-container\">\n",
              "      <div>\n",
              "<style scoped>\n",
              "    .dataframe tbody tr th:only-of-type {\n",
              "        vertical-align: middle;\n",
              "    }\n",
              "\n",
              "    .dataframe tbody tr th {\n",
              "        vertical-align: top;\n",
              "    }\n",
              "\n",
              "    .dataframe thead th {\n",
              "        text-align: right;\n",
              "    }\n",
              "</style>\n",
              "<table border=\"1\" class=\"dataframe\">\n",
              "  <thead>\n",
              "    <tr style=\"text-align: right;\">\n",
              "      <th></th>\n",
              "      <th>feature_1</th>\n",
              "      <th>feature_2</th>\n",
              "      <th>feature_3</th>\n",
              "      <th>feature_4</th>\n",
              "      <th>feature_5</th>\n",
              "      <th>feature_6</th>\n",
              "      <th>feature_7</th>\n",
              "      <th>feature_8</th>\n",
              "      <th>feature_9</th>\n",
              "      <th>feature_10</th>\n",
              "      <th>feature_11</th>\n",
              "      <th>feature_12</th>\n",
              "      <th>target_1</th>\n",
              "      <th>target_2</th>\n",
              "    </tr>\n",
              "  </thead>\n",
              "  <tbody>\n",
              "    <tr>\n",
              "      <th>count</th>\n",
              "      <td>5600.000000</td>\n",
              "      <td>5600.000000</td>\n",
              "      <td>5600.000000</td>\n",
              "      <td>5600.000000</td>\n",
              "      <td>5600.000000</td>\n",
              "      <td>5600.000000</td>\n",
              "      <td>5600.000000</td>\n",
              "      <td>5600.000000</td>\n",
              "      <td>5600.000000</td>\n",
              "      <td>5600.000000</td>\n",
              "      <td>5600.000000</td>\n",
              "      <td>5600.000000</td>\n",
              "      <td>5600.000000</td>\n",
              "      <td>5600.000000</td>\n",
              "    </tr>\n",
              "    <tr>\n",
              "      <th>mean</th>\n",
              "      <td>5.241613</td>\n",
              "      <td>5.207249</td>\n",
              "      <td>5.266892</td>\n",
              "      <td>5.240435</td>\n",
              "      <td>3.737027</td>\n",
              "      <td>-1.244144</td>\n",
              "      <td>-1.247699</td>\n",
              "      <td>-1.245183</td>\n",
              "      <td>0.520054</td>\n",
              "      <td>0.526568</td>\n",
              "      <td>0.527825</td>\n",
              "      <td>0.525716</td>\n",
              "      <td>0.015508</td>\n",
              "      <td>0.368929</td>\n",
              "    </tr>\n",
              "    <tr>\n",
              "      <th>std</th>\n",
              "      <td>2.731169</td>\n",
              "      <td>2.738920</td>\n",
              "      <td>2.748180</td>\n",
              "      <td>2.737785</td>\n",
              "      <td>0.755338</td>\n",
              "      <td>0.432155</td>\n",
              "      <td>0.429315</td>\n",
              "      <td>0.437041</td>\n",
              "      <td>0.272903</td>\n",
              "      <td>0.275228</td>\n",
              "      <td>0.276045</td>\n",
              "      <td>0.274612</td>\n",
              "      <td>0.037146</td>\n",
              "      <td>0.482558</td>\n",
              "    </tr>\n",
              "    <tr>\n",
              "      <th>min</th>\n",
              "      <td>0.500793</td>\n",
              "      <td>0.500141</td>\n",
              "      <td>0.500788</td>\n",
              "      <td>0.501571</td>\n",
              "      <td>1.642860</td>\n",
              "      <td>-1.999891</td>\n",
              "      <td>-1.999945</td>\n",
              "      <td>-1.999926</td>\n",
              "      <td>0.050212</td>\n",
              "      <td>0.050130</td>\n",
              "      <td>0.050054</td>\n",
              "      <td>0.050458</td>\n",
              "      <td>-0.069501</td>\n",
              "      <td>0.000000</td>\n",
              "    </tr>\n",
              "    <tr>\n",
              "      <th>25%</th>\n",
              "      <td>2.895017</td>\n",
              "      <td>2.816258</td>\n",
              "      <td>2.887539</td>\n",
              "      <td>2.867341</td>\n",
              "      <td>3.198132</td>\n",
              "      <td>-1.616922</td>\n",
              "      <td>-1.615806</td>\n",
              "      <td>-1.624247</td>\n",
              "      <td>0.286035</td>\n",
              "      <td>0.287594</td>\n",
              "      <td>0.289030</td>\n",
              "      <td>0.287074</td>\n",
              "      <td>-0.015961</td>\n",
              "      <td>0.000000</td>\n",
              "    </tr>\n",
              "    <tr>\n",
              "      <th>50%</th>\n",
              "      <td>5.242610</td>\n",
              "      <td>5.217905</td>\n",
              "      <td>5.287087</td>\n",
              "      <td>5.244472</td>\n",
              "      <td>3.730667</td>\n",
              "      <td>-1.240656</td>\n",
              "      <td>-1.246085</td>\n",
              "      <td>-1.244799</td>\n",
              "      <td>0.518623</td>\n",
              "      <td>0.527188</td>\n",
              "      <td>0.532050</td>\n",
              "      <td>0.530605</td>\n",
              "      <td>0.016719</td>\n",
              "      <td>0.000000</td>\n",
              "    </tr>\n",
              "    <tr>\n",
              "      <th>75%</th>\n",
              "      <td>7.608702</td>\n",
              "      <td>7.549617</td>\n",
              "      <td>7.657545</td>\n",
              "      <td>7.601236</td>\n",
              "      <td>4.279071</td>\n",
              "      <td>-0.869939</td>\n",
              "      <td>-0.880249</td>\n",
              "      <td>-0.864824</td>\n",
              "      <td>0.755112</td>\n",
              "      <td>0.766990</td>\n",
              "      <td>0.766302</td>\n",
              "      <td>0.761286</td>\n",
              "      <td>0.044651</td>\n",
              "      <td>1.000000</td>\n",
              "    </tr>\n",
              "    <tr>\n",
              "      <th>max</th>\n",
              "      <td>9.999469</td>\n",
              "      <td>9.999837</td>\n",
              "      <td>9.995595</td>\n",
              "      <td>9.998912</td>\n",
              "      <td>5.864418</td>\n",
              "      <td>-0.500274</td>\n",
              "      <td>-0.500072</td>\n",
              "      <td>-0.500025</td>\n",
              "      <td>0.999937</td>\n",
              "      <td>0.999944</td>\n",
              "      <td>0.999839</td>\n",
              "      <td>0.999640</td>\n",
              "      <td>0.109403</td>\n",
              "      <td>1.000000</td>\n",
              "    </tr>\n",
              "  </tbody>\n",
              "</table>\n",
              "</div>\n",
              "      <button class=\"colab-df-convert\" onclick=\"convertToInteractive('df-520603fb-421a-4127-a565-a11261a3c67b')\"\n",
              "              title=\"Convert this dataframe to an interactive table.\"\n",
              "              style=\"display:none;\">\n",
              "        \n",
              "  <svg xmlns=\"http://www.w3.org/2000/svg\" height=\"24px\"viewBox=\"0 0 24 24\"\n",
              "       width=\"24px\">\n",
              "    <path d=\"M0 0h24v24H0V0z\" fill=\"none\"/>\n",
              "    <path d=\"M18.56 5.44l.94 2.06.94-2.06 2.06-.94-2.06-.94-.94-2.06-.94 2.06-2.06.94zm-11 1L8.5 8.5l.94-2.06 2.06-.94-2.06-.94L8.5 2.5l-.94 2.06-2.06.94zm10 10l.94 2.06.94-2.06 2.06-.94-2.06-.94-.94-2.06-.94 2.06-2.06.94z\"/><path d=\"M17.41 7.96l-1.37-1.37c-.4-.4-.92-.59-1.43-.59-.52 0-1.04.2-1.43.59L10.3 9.45l-7.72 7.72c-.78.78-.78 2.05 0 2.83L4 21.41c.39.39.9.59 1.41.59.51 0 1.02-.2 1.41-.59l7.78-7.78 2.81-2.81c.8-.78.8-2.07 0-2.86zM5.41 20L4 18.59l7.72-7.72 1.47 1.35L5.41 20z\"/>\n",
              "  </svg>\n",
              "      </button>\n",
              "      \n",
              "  <style>\n",
              "    .colab-df-container {\n",
              "      display:flex;\n",
              "      flex-wrap:wrap;\n",
              "      gap: 12px;\n",
              "    }\n",
              "\n",
              "    .colab-df-convert {\n",
              "      background-color: #E8F0FE;\n",
              "      border: none;\n",
              "      border-radius: 50%;\n",
              "      cursor: pointer;\n",
              "      display: none;\n",
              "      fill: #1967D2;\n",
              "      height: 32px;\n",
              "      padding: 0 0 0 0;\n",
              "      width: 32px;\n",
              "    }\n",
              "\n",
              "    .colab-df-convert:hover {\n",
              "      background-color: #E2EBFA;\n",
              "      box-shadow: 0px 1px 2px rgba(60, 64, 67, 0.3), 0px 1px 3px 1px rgba(60, 64, 67, 0.15);\n",
              "      fill: #174EA6;\n",
              "    }\n",
              "\n",
              "    [theme=dark] .colab-df-convert {\n",
              "      background-color: #3B4455;\n",
              "      fill: #D2E3FC;\n",
              "    }\n",
              "\n",
              "    [theme=dark] .colab-df-convert:hover {\n",
              "      background-color: #434B5C;\n",
              "      box-shadow: 0px 1px 3px 1px rgba(0, 0, 0, 0.15);\n",
              "      filter: drop-shadow(0px 1px 2px rgba(0, 0, 0, 0.3));\n",
              "      fill: #FFFFFF;\n",
              "    }\n",
              "  </style>\n",
              "\n",
              "      <script>\n",
              "        const buttonEl =\n",
              "          document.querySelector('#df-520603fb-421a-4127-a565-a11261a3c67b button.colab-df-convert');\n",
              "        buttonEl.style.display =\n",
              "          google.colab.kernel.accessAllowed ? 'block' : 'none';\n",
              "\n",
              "        async function convertToInteractive(key) {\n",
              "          const element = document.querySelector('#df-520603fb-421a-4127-a565-a11261a3c67b');\n",
              "          const dataTable =\n",
              "            await google.colab.kernel.invokeFunction('convertToInteractive',\n",
              "                                                     [key], {});\n",
              "          if (!dataTable) return;\n",
              "\n",
              "          const docLinkHtml = 'Like what you see? Visit the ' +\n",
              "            '<a target=\"_blank\" href=https://colab.research.google.com/notebooks/data_table.ipynb>data table notebook</a>'\n",
              "            + ' to learn more about interactive tables.';\n",
              "          element.innerHTML = '';\n",
              "          dataTable['output_type'] = 'display_data';\n",
              "          await google.colab.output.renderOutput(dataTable, element);\n",
              "          const docLink = document.createElement('div');\n",
              "          docLink.innerHTML = docLinkHtml;\n",
              "          element.appendChild(docLink);\n",
              "        }\n",
              "      </script>\n",
              "    </div>\n",
              "  </div>\n",
              "  "
            ]
          },
          "metadata": {},
          "execution_count": 37
        }
      ],
      "source": [
        "train_dataset.describe()"
      ]
    },
    {
      "cell_type": "markdown",
      "id": "79324b1a",
      "metadata": {
        "id": "79324b1a"
      },
      "source": [
        "# regression"
      ]
    },
    {
      "cell_type": "code",
      "execution_count": 38,
      "id": "979c514b",
      "metadata": {
        "id": "979c514b"
      },
      "outputs": [],
      "source": [
        "train_regression = train_target[:, 0]\n",
        "val_regression = val_target[:, 0]"
      ]
    },
    {
      "cell_type": "markdown",
      "id": "f01f0e7c",
      "metadata": {
        "id": "f01f0e7c"
      },
      "source": [
        "### normalization"
      ]
    },
    {
      "cell_type": "code",
      "execution_count": 40,
      "id": "51131481",
      "metadata": {
        "id": "51131481",
        "outputId": "b9ce4676-fbdf-4385-c646-0d0efb19e554",
        "colab": {
          "base_uri": "https://localhost:8080/"
        }
      },
      "outputs": [
        {
          "output_type": "execute_result",
          "data": {
            "text/plain": [
              "(feature_1     9.999469\n",
              " feature_2     9.999837\n",
              " feature_3     9.995595\n",
              " feature_4     9.998912\n",
              " feature_5     5.864418\n",
              " feature_6    -0.500274\n",
              " feature_7    -0.500072\n",
              " feature_8    -0.500025\n",
              " feature_9     0.999937\n",
              " feature_10    0.999944\n",
              " feature_11    0.999839\n",
              " feature_12    0.999640\n",
              " dtype: float64, feature_1     0.500793\n",
              " feature_2     0.500141\n",
              " feature_3     0.500788\n",
              " feature_4     0.501571\n",
              " feature_5     1.642860\n",
              " feature_6    -1.999891\n",
              " feature_7    -1.999945\n",
              " feature_8    -1.999926\n",
              " feature_9     0.050212\n",
              " feature_10    0.050130\n",
              " feature_11    0.050054\n",
              " feature_12    0.050458\n",
              " dtype: float64)"
            ]
          },
          "metadata": {},
          "execution_count": 40
        }
      ],
      "source": [
        "train_feature.max(), train_feature.min()"
      ]
    },
    {
      "cell_type": "markdown",
      "id": "7df709dd",
      "metadata": {
        "id": "7df709dd"
      },
      "source": [
        "## fitting\n",
        "### Линейная регрессия"
      ]
    },
    {
      "cell_type": "code",
      "execution_count": 41,
      "id": "ad2f579d",
      "metadata": {
        "id": "ad2f579d"
      },
      "outputs": [],
      "source": [
        "def rmse(truth, predicts):\n",
        "    return np.sqrt(np.mean((truth - predicts)**2))"
      ]
    },
    {
      "cell_type": "code",
      "execution_count": 42,
      "id": "9e111b7f",
      "metadata": {
        "id": "9e111b7f",
        "outputId": "6def383a-ea5c-4a0b-d913-371f0424f3d0",
        "colab": {
          "base_uri": "https://localhost:8080/",
          "height": 367
        }
      },
      "outputs": [
        {
          "output_type": "stream",
          "name": "stderr",
          "text": [
            "/usr/local/lib/python3.7/dist-packages/sklearn/base.py:451: UserWarning: X does not have valid feature names, but LinearRegression was fitted with feature names\n",
            "  \"X does not have valid feature names, but\"\n"
          ]
        },
        {
          "output_type": "stream",
          "name": "stdout",
          "text": [
            "RMSE: 0.022, std: 0.036\n"
          ]
        },
        {
          "output_type": "display_data",
          "data": {
            "text/plain": [
              "<Figure size 432x288 with 1 Axes>"
            ],
            "image/png": "[encoded data removed]"
          },
          "metadata": {
            "needs_background": "light"
          }
        }
      ],
      "source": [
        "linear_regression = LinearRegression()\n",
        "\n",
        "linear_regression.fit(train_feature, train_regression)\n",
        "predicts = linear_regression.predict(val_feature)\n",
        "print('RMSE: {:.3f}, std: {:.3f}'.format(np.sqrt(mean_squared_error(predicts, val_regression)), val_regression.std()))\n",
        "\n",
        "plt.plot(predicts, val_regression, '.', label='real predictions')\n",
        "plt.plot(val_regression,val_regression,'.r', label='perfect predictions')\n",
        "plt.xlabel('predicts')\n",
        "plt.ylabel('validation')\n",
        "plt.title('Linear regression truth-predict matching')\n",
        "plt.legend()\n",
        "plt.show()"
      ]
    },
    {
      "cell_type": "code",
      "execution_count": null,
      "id": "66164009",
      "metadata": {
        "id": "66164009",
        "outputId": "3b262c47-be58-45f1-8f25-88e90e3c92f5",
        "colab": {
          "base_uri": "https://localhost:8080/",
          "height": 367
        }
      },
      "outputs": [
        {
          "output_type": "stream",
          "name": "stdout",
          "text": [
            "RMSE: 0.021, std: 0.036\n"
          ]
        },
        {
          "output_type": "stream",
          "name": "stderr",
          "text": [
            "/usr/local/lib/python3.7/dist-packages/sklearn/base.py:451: UserWarning: X does not have valid feature names, but DecisionTreeRegressor was fitted with feature names\n",
            "  \"X does not have valid feature names, but\"\n"
          ]
        },
        {
          "output_type": "display_data",
          "data": {
            "text/plain": [
              "<Figure size 432x288 with 1 Axes>"
            ],
            "image/png": "[encoded data removed]"
          },
          "metadata": {
            "needs_background": "light"
          }
        }
      ],
      "source": [
        "regression_tree = DecisionTreeRegressor()\n",
        "\n",
        "regression_tree.fit(train_feature, train_regression)\n",
        "predicts = regression_tree.predict(val_feature)\n",
        "print('RMSE: {:.3f}, std: {:.3f}'.format(np.sqrt(mean_squared_error(predicts, val_regression)), val_regression.std()))\n",
        "\n",
        "plt.plot(predicts, val_regression, '.', label='real predictions')\n",
        "plt.plot(val_regression, val_regression, '.r', label='perfect predictions')\n",
        "plt.xlabel('predicts')\n",
        "plt.ylabel('validation')\n",
        "plt.title('regression_tree truth-predict matching')\n",
        "plt.legend()\n",
        "plt.show()"
      ]
    },
    {
      "cell_type": "code",
      "source": [
        "kneighbors_regression = KNeighborsRegressor()\n",
        "\n",
        "kneighbors_regression.fit(train_feature, train_regression)\n",
        "predicts = kneighbors_regression.predict(val_feature)\n",
        "print('RMSE: {:.3f}, std: {:.3f}'.format(np.sqrt(mean_squared_error(predicts, val_regression)), val_regression.std()))\n",
        "\n",
        "plt.plot(predicts, val_regression, '.', label='real predictions')\n",
        "plt.plot(val_regression,val_regression,'.r', label='perfect predictions')\n",
        "plt.xlabel('predicts')\n",
        "plt.ylabel('validation')\n",
        "plt.title('KNeighbors regression truth-predict matching')\n",
        "plt.legend()\n",
        "plt.show()"
      ],
      "metadata": {
        "colab": {
          "base_uri": "https://localhost:8080/",
          "height": 367
        },
        "id": "5a5lZlpBNJQJ",
        "outputId": "c4d54c55-c2e4-4156-a8e3-6cdce509c8f0"
      },
      "id": "5a5lZlpBNJQJ",
      "execution_count": null,
      "outputs": [
        {
          "output_type": "stream",
          "name": "stderr",
          "text": [
            "/usr/local/lib/python3.7/dist-packages/sklearn/base.py:451: UserWarning: X does not have valid feature names, but KNeighborsRegressor was fitted with feature names\n",
            "  \"X does not have valid feature names, but\"\n"
          ]
        },
        {
          "output_type": "stream",
          "name": "stdout",
          "text": [
            "RMSE: 0.026, std: 0.036\n"
          ]
        },
        {
          "output_type": "display_data",
          "data": {
            "text/plain": [
              "<Figure size 432x288 with 1 Axes>"
            ],
            "image/png": "[encoded data removed]"
          },
          "metadata": {
            "needs_background": "light"
          }
        }
      ]
    },
    {
      "cell_type": "markdown",
      "id": "5db72cfe",
      "metadata": {
        "id": "5db72cfe"
      },
      "source": [
        "## classification"
      ]
    },
    {
      "cell_type": "code",
      "execution_count": null,
      "id": "dfdcdb89",
      "metadata": {
        "id": "dfdcdb89"
      },
      "outputs": [],
      "source": [
        "train_classification = train_target[:, 1]\n",
        "val_classification = val_target[:, 1]"
      ]
    },
    {
      "cell_type": "code",
      "source": [
        "train_classification"
      ],
      "metadata": {
        "id": "4XkI4J8tUnh2",
        "outputId": "54a3e752-e7d4-4f41-f30a-761af0be07d2",
        "colab": {
          "base_uri": "https://localhost:8080/"
        }
      },
      "id": "4XkI4J8tUnh2",
      "execution_count": null,
      "outputs": [
        {
          "output_type": "execute_result",
          "data": {
            "text/plain": [
              "array([1., 1., 0., ..., 0., 0., 1.])"
            ]
          },
          "metadata": {},
          "execution_count": 112
        }
      ]
    },
    {
      "cell_type": "code",
      "execution_count": null,
      "id": "aba7c54e",
      "metadata": {
        "id": "aba7c54e",
        "outputId": "76d86cd4-b50d-46a6-d090-94657135840e",
        "colab": {
          "base_uri": "https://localhost:8080/"
        }
      },
      "outputs": [
        {
          "output_type": "stream",
          "name": "stdout",
          "text": [
            "accuracy: 81.57%\n"
          ]
        },
        {
          "output_type": "stream",
          "name": "stderr",
          "text": [
            "/usr/local/lib/python3.7/dist-packages/sklearn/base.py:451: UserWarning: X does not have valid feature names, but LogisticRegression was fitted with feature names\n",
            "  \"X does not have valid feature names, but\"\n"
          ]
        }
      ],
      "source": [
        "classifier = LogisticRegression()\n",
        "classifier.fit(train_feature, train_classification)\n",
        "predicts = classifier.predict(val_feature)\n",
        "print('accuracy: {:.2f}%'.format((predicts == val_classification).sum() / len(val_classification) * 100))"
      ]
    },
    {
      "cell_type": "code",
      "source": [
        "100 * (predicts == val_classification).sum() / len(predicts == val_classification)"
      ],
      "metadata": {
        "id": "vIz8eGECU30F",
        "outputId": "fa36458d-e254-427f-dcda-8fc0277bdc4d",
        "colab": {
          "base_uri": "https://localhost:8080/"
        }
      },
      "id": "vIz8eGECU30F",
      "execution_count": null,
      "outputs": [
        {
          "output_type": "execute_result",
          "data": {
            "text/plain": [
              "81.57142857142857"
            ]
          },
          "metadata": {},
          "execution_count": 114
        }
      ]
    },
    {
      "cell_type": "markdown",
      "id": "38e97679",
      "metadata": {
        "id": "38e97679"
      },
      "source": [
        "**f1-score metric**\n",
        "\n",
        "precision and recall"
      ]
    },
    {
      "cell_type": "code",
      "execution_count": null,
      "id": "81e0964b",
      "metadata": {
        "id": "81e0964b"
      },
      "outputs": [],
      "source": [
        "def f1_score(truth, predicts):\n",
        "    tn, fp, fn, tp = pd.crosstab(predicts, val_classification).values.ravel()\n",
        "    precision = tp / (tp + fp)\n",
        "    recall = tp / (tp + fn)\n",
        "    f1 = 2 * (precision * recall) / (precision + recall)\n",
        "    return f1"
      ]
    },
    {
      "cell_type": "code",
      "execution_count": null,
      "id": "8db1da31",
      "metadata": {
        "id": "8db1da31",
        "outputId": "6e5a73c7-b450-4ba3-b44c-afcd09a71ba5",
        "colab": {
          "base_uri": "https://localhost:8080/"
        }
      },
      "outputs": [
        {
          "output_type": "stream",
          "name": "stdout",
          "text": [
            "accuracy: 81.57%\n",
            "f1_score: 73.24%\n"
          ]
        },
        {
          "output_type": "stream",
          "name": "stderr",
          "text": [
            "/usr/local/lib/python3.7/dist-packages/sklearn/base.py:451: UserWarning: X does not have valid feature names, but LogisticRegression was fitted with feature names\n",
            "  \"X does not have valid feature names, but\"\n"
          ]
        }
      ],
      "source": [
        "classifier = LogisticRegression()\n",
        "classifier.fit(train_feature, train_classification)\n",
        "predicts = classifier.predict(val_feature)\n",
        "print('accuracy: {:.2f}%'.format((predicts == val_classification).sum() / len(val_classification) * 100))\n",
        "print('f1_score: {:.2f}%'.format(f1_score(val_classification, predicts) * 100))"
      ]
    },
    {
      "cell_type": "code",
      "source": [
        "classifier = DecisionTreeClassifier()\n",
        "classifier.fit(train_feature, train_classification)\n",
        "predicts = classifier.predict(val_feature)\n",
        "print('accuracy: {:.2f}%'.format((predicts == val_classification).sum() / len(val_classification) * 100))\n",
        "print('f1_score: {:.2f}%'.format(f1_score(val_classification, predicts) * 100))"
      ],
      "metadata": {
        "colab": {
          "base_uri": "https://localhost:8080/"
        },
        "id": "zlE5GUYdUzVx",
        "outputId": "0c5cb845-29a1-436e-9d28-9b1ba655260f"
      },
      "id": "zlE5GUYdUzVx",
      "execution_count": null,
      "outputs": [
        {
          "output_type": "stream",
          "name": "stdout",
          "text": [
            "accuracy: 84.57%\n",
            "f1_score: 78.27%\n"
          ]
        },
        {
          "output_type": "stream",
          "name": "stderr",
          "text": [
            "/usr/local/lib/python3.7/dist-packages/sklearn/base.py:451: UserWarning: X does not have valid feature names, but DecisionTreeClassifier was fitted with feature names\n",
            "  \"X does not have valid feature names, but\"\n"
          ]
        }
      ]
    },
    {
      "cell_type": "code",
      "source": [
        "classifier = KNeighborsClassifier()\n",
        "classifier.fit(train_feature, train_classification)\n",
        "predicts = classifier.predict(val_feature)\n",
        "print('accuracy: {:.2f}%'.format((predicts == val_classification).sum() / len(val_classification) * 100))\n",
        "print('f1_score: {:.2f}%'.format(f1_score(val_classification, predicts) * 100))"
      ],
      "metadata": {
        "colab": {
          "base_uri": "https://localhost:8080/"
        },
        "id": "ov_-B0LoVSIP",
        "outputId": "198f6dca-e40f-4a07-e142-16ec355cc359"
      },
      "id": "ov_-B0LoVSIP",
      "execution_count": null,
      "outputs": [
        {
          "output_type": "stream",
          "name": "stderr",
          "text": [
            "/usr/local/lib/python3.7/dist-packages/sklearn/base.py:451: UserWarning: X does not have valid feature names, but KNeighborsClassifier was fitted with feature names\n",
            "  \"X does not have valid feature names, but\"\n"
          ]
        },
        {
          "output_type": "stream",
          "name": "stdout",
          "text": [
            "accuracy: 76.93%\n",
            "f1_score: 66.04%\n"
          ]
        }
      ]
    },
    {
      "cell_type": "code",
      "source": [
        "classifier = SVC()\n",
        "classifier.fit(train_feature, train_classification)\n",
        "predicts = classifier.predict(val_feature)\n",
        "print('accuracy: {:.2f}%'.format((predicts == val_classification).sum() / len(val_classification) * 100))\n",
        "print('f1_score: {:.2f}%'.format(f1_score(val_classification, predicts) * 100))"
      ],
      "metadata": {
        "colab": {
          "base_uri": "https://localhost:8080/"
        },
        "id": "Z2KugChRVZ0d",
        "outputId": "cca98792-0ae4-442e-99f7-5aecc91ed4dd"
      },
      "id": "Z2KugChRVZ0d",
      "execution_count": null,
      "outputs": [
        {
          "output_type": "stream",
          "name": "stderr",
          "text": [
            "/usr/local/lib/python3.7/dist-packages/sklearn/base.py:451: UserWarning: X does not have valid feature names, but SVC was fitted with feature names\n",
            "  \"X does not have valid feature names, but\"\n"
          ]
        },
        {
          "output_type": "stream",
          "name": "stdout",
          "text": [
            "accuracy: 87.50%\n",
            "f1_score: 81.94%\n"
          ]
        }
      ]
    },
    {
      "cell_type": "markdown",
      "id": "18e920f5",
      "metadata": {
        "id": "18e920f5"
      },
      "source": [
        "## cross-validation"
      ]
    },
    {
      "cell_type": "code",
      "execution_count": null,
      "id": "2b259519",
      "metadata": {
        "scrolled": true,
        "id": "2b259519",
        "outputId": "0225eaa4-239d-41d6-89d6-79ccaeef8956",
        "colab": {
          "base_uri": "https://localhost:8080/"
        }
      },
      "outputs": [
        {
          "output_type": "stream",
          "name": "stdout",
          "text": [
            "72.96 +- 0.64\n"
          ]
        }
      ],
      "source": [
        "def scorer(model, X, y):\n",
        "    return f1_score(y, model.predict(X))\n",
        "\n",
        "model = LogisticRegression()\n",
        "cross_val = cross_val_score(\n",
        "    model,\n",
        "    train_df.drop(columns=['target_1', 'target_2']),\n",
        "    train_df['target_2'],\n",
        "    cv=5,\n",
        "    scoring='f1',\n",
        ") * 100\n",
        "\n",
        "print('{:.2f} +- {:.2f}'.format(cross_val.mean(), cross_val.std()))"
      ]
    },
    {
      "cell_type": "code",
      "source": [
        "model = DecisionTreeClassifier()\n",
        "cross_val = cross_val_score(\n",
        "    model,\n",
        "    train_df.drop(columns=['target_1', 'target_2']),\n",
        "    train_df['target_2'],\n",
        "    cv=5,\n",
        "    scoring='f1',\n",
        ") * 100\n",
        "\n",
        "print('{:.2f} +- {:.2f}'.format(cross_val.mean(), cross_val.std()))"
      ],
      "metadata": {
        "colab": {
          "base_uri": "https://localhost:8080/"
        },
        "id": "K9jgi8WXVsFw",
        "outputId": "29475d11-2d0e-4e7a-891f-27a3d2463085"
      },
      "id": "K9jgi8WXVsFw",
      "execution_count": null,
      "outputs": [
        {
          "output_type": "stream",
          "name": "stdout",
          "text": [
            "78.03 +- 0.93\n"
          ]
        }
      ]
    },
    {
      "cell_type": "code",
      "source": [
        "model = KNeighborsClassifier()\n",
        "cross_val = cross_val_score(\n",
        "    model,\n",
        "    train_df.drop(columns=['target_1', 'target_2']),\n",
        "    train_df['target_2'],\n",
        "    cv=5,\n",
        "    scoring='f1',\n",
        ") * 100\n",
        "\n",
        "print('{:.2f} +- {:.2f}'.format(cross_val.mean(), cross_val.std()))"
      ],
      "metadata": {
        "colab": {
          "base_uri": "https://localhost:8080/"
        },
        "id": "-eisjCv2Vsms",
        "outputId": "8d031c0a-75ca-4bf3-9e8d-85051a2141e0"
      },
      "id": "-eisjCv2Vsms",
      "execution_count": null,
      "outputs": [
        {
          "output_type": "stream",
          "name": "stdout",
          "text": [
            "67.86 +- 2.20\n"
          ]
        }
      ]
    },
    {
      "cell_type": "code",
      "source": [
        "model = SVC()\n",
        "cross_val = cross_val_score(\n",
        "    model,\n",
        "    train_df.drop(columns=['target_1', 'target_2']),\n",
        "    train_df['target_2'],\n",
        "    cv=5,\n",
        "    scoring='f1',\n",
        ") * 100\n",
        "\n",
        "print('{:.2f} +- {:.2f}'.format(cross_val.mean(), cross_val.std()))"
      ],
      "metadata": {
        "colab": {
          "base_uri": "https://localhost:8080/"
        },
        "id": "xMgYfa_sVtG8",
        "outputId": "1bc14b11-ca40-4d93-ef33-49823f872533"
      },
      "id": "xMgYfa_sVtG8",
      "execution_count": null,
      "outputs": [
        {
          "output_type": "stream",
          "name": "stdout",
          "text": [
            "82.47 +- 1.29\n"
          ]
        }
      ]
    },
    {
      "cell_type": "markdown",
      "id": "df61614c",
      "metadata": {
        "id": "df61614c"
      },
      "source": [
        "## GridSearchCV\n",
        "\n",
        "**[metrics](https://scikit-learn.org/stable/modules/model_evaluation.html)**\n",
        "\n",
        "1. f1\n",
        "2. neg_mean_squared_error"
      ]
    },
    {
      "cell_type": "code",
      "execution_count": 73,
      "id": "0e74bfb3",
      "metadata": {
        "id": "0e74bfb3",
        "colab": {
          "base_uri": "https://localhost:8080/",
          "height": 381
        },
        "outputId": "45b7edd3-5cd2-49ee-d6d9-95912e554cbc"
      },
      "outputs": [
        {
          "output_type": "error",
          "ename": "KeyboardInterrupt",
          "evalue": "ignored",
          "traceback": [
            "\u001b[0;31m---------------------------------------------------------------------------\u001b[0m",
            "\u001b[0;31mKeyboardInterrupt\u001b[0m                         Traceback (most recent call last)",
            "\u001b[0;32m<ipython-input-73-bd7c7c492552>\u001b[0m in \u001b[0;36m<module>\u001b[0;34m()\u001b[0m\n\u001b[1;32m     32\u001b[0m \u001b[0;32mfor\u001b[0m \u001b[0mmodel_name_1\u001b[0m\u001b[0;34m,\u001b[0m \u001b[0mmp_1\u001b[0m \u001b[0;32min\u001b[0m \u001b[0mclass_model_params\u001b[0m\u001b[0;34m.\u001b[0m\u001b[0mitems\u001b[0m\u001b[0;34m(\u001b[0m\u001b[0;34m)\u001b[0m\u001b[0;34m:\u001b[0m\u001b[0;34m\u001b[0m\u001b[0;34m\u001b[0m\u001b[0m\n\u001b[1;32m     33\u001b[0m     \u001b[0mclf_1\u001b[0m \u001b[0;34m=\u001b[0m \u001b[0mGridSearchCV\u001b[0m\u001b[0;34m(\u001b[0m\u001b[0mmp_1\u001b[0m\u001b[0;34m[\u001b[0m\u001b[0;34m'model'\u001b[0m\u001b[0;34m]\u001b[0m\u001b[0;34m,\u001b[0m \u001b[0mmp_1\u001b[0m\u001b[0;34m[\u001b[0m\u001b[0;34m'params'\u001b[0m\u001b[0;34m]\u001b[0m\u001b[0;34m,\u001b[0m \u001b[0mscoring\u001b[0m\u001b[0;34m=\u001b[0m\u001b[0;34m'f1'\u001b[0m\u001b[0;34m,\u001b[0m\u001b[0mcv\u001b[0m\u001b[0;34m=\u001b[0m\u001b[0;36m5\u001b[0m\u001b[0;34m)\u001b[0m\u001b[0;34m\u001b[0m\u001b[0;34m\u001b[0m\u001b[0m\n\u001b[0;32m---> 34\u001b[0;31m     \u001b[0mclf_1\u001b[0m\u001b[0;34m.\u001b[0m\u001b[0mfit\u001b[0m\u001b[0;34m(\u001b[0m\u001b[0mtrain_df\u001b[0m\u001b[0;34m.\u001b[0m\u001b[0mdrop\u001b[0m\u001b[0;34m(\u001b[0m\u001b[0mcolumns\u001b[0m\u001b[0;34m=\u001b[0m\u001b[0;34m[\u001b[0m\u001b[0;34m'target_1'\u001b[0m\u001b[0;34m,\u001b[0m \u001b[0;34m'target_2'\u001b[0m\u001b[0;34m]\u001b[0m\u001b[0;34m)\u001b[0m\u001b[0;34m,\u001b[0m \u001b[0mtrain_df\u001b[0m\u001b[0;34m[\u001b[0m\u001b[0;34m'target_2'\u001b[0m\u001b[0;34m]\u001b[0m\u001b[0;34m)\u001b[0m\u001b[0;34m\u001b[0m\u001b[0;34m\u001b[0m\u001b[0m\n\u001b[0m\u001b[1;32m     35\u001b[0m     scores_1.append({\n\u001b[1;32m     36\u001b[0m         \u001b[0;34m'model'\u001b[0m\u001b[0;34m:\u001b[0m \u001b[0mmodel_name_1\u001b[0m\u001b[0;34m,\u001b[0m\u001b[0;34m\u001b[0m\u001b[0;34m\u001b[0m\u001b[0m\n",
            "\u001b[0;32m/usr/local/lib/python3.7/dist-packages/sklearn/model_selection/_search.py\u001b[0m in \u001b[0;36mfit\u001b[0;34m(self, X, y, groups, **fit_params)\u001b[0m\n\u001b[1;32m    889\u001b[0m                 \u001b[0;32mreturn\u001b[0m \u001b[0mresults\u001b[0m\u001b[0;34m\u001b[0m\u001b[0;34m\u001b[0m\u001b[0m\n\u001b[1;32m    890\u001b[0m \u001b[0;34m\u001b[0m\u001b[0m\n\u001b[0;32m--> 891\u001b[0;31m             \u001b[0mself\u001b[0m\u001b[0;34m.\u001b[0m\u001b[0m_run_search\u001b[0m\u001b[0;34m(\u001b[0m\u001b[0mevaluate_candidates\u001b[0m\u001b[0;34m)\u001b[0m\u001b[0;34m\u001b[0m\u001b[0;34m\u001b[0m\u001b[0m\n\u001b[0m\u001b[1;32m    892\u001b[0m \u001b[0;34m\u001b[0m\u001b[0m\n\u001b[1;32m    893\u001b[0m             \u001b[0;31m# multimetric is determined here because in the case of a callable\u001b[0m\u001b[0;34m\u001b[0m\u001b[0;34m\u001b[0m\u001b[0;34m\u001b[0m\u001b[0m\n",
            "\u001b[0;32m/usr/local/lib/python3.7/dist-packages/sklearn/model_selection/_search.py\u001b[0m in \u001b[0;36m_run_search\u001b[0;34m(self, evaluate_candidates)\u001b[0m\n\u001b[1;32m   1390\u001b[0m     \u001b[0;32mdef\u001b[0m \u001b[0m_run_search\u001b[0m\u001b[0;34m(\u001b[0m\u001b[0mself\u001b[0m\u001b[0;34m,\u001b[0m \u001b[0mevaluate_candidates\u001b[0m\u001b[0;34m)\u001b[0m\u001b[0;34m:\u001b[0m\u001b[0;34m\u001b[0m\u001b[0;34m\u001b[0m\u001b[0m\n\u001b[1;32m   1391\u001b[0m         \u001b[0;34m\"\"\"Search all candidates in param_grid\"\"\"\u001b[0m\u001b[0;34m\u001b[0m\u001b[0;34m\u001b[0m\u001b[0m\n\u001b[0;32m-> 1392\u001b[0;31m         \u001b[0mevaluate_candidates\u001b[0m\u001b[0;34m(\u001b[0m\u001b[0mParameterGrid\u001b[0m\u001b[0;34m(\u001b[0m\u001b[0mself\u001b[0m\u001b[0;34m.\u001b[0m\u001b[0mparam_grid\u001b[0m\u001b[0;34m)\u001b[0m\u001b[0;34m)\u001b[0m\u001b[0;34m\u001b[0m\u001b[0;34m\u001b[0m\u001b[0m\n\u001b[0m\u001b[1;32m   1393\u001b[0m \u001b[0;34m\u001b[0m\u001b[0m\n\u001b[1;32m   1394\u001b[0m \u001b[0;34m\u001b[0m\u001b[0m\n",
            "\u001b[0;32m/usr/local/lib/python3.7/dist-packages/sklearn/model_selection/_search.py\u001b[0m in \u001b[0;36mevaluate_candidates\u001b[0;34m(candidate_params, cv, more_results)\u001b[0m\n\u001b[1;32m    849\u001b[0m                     )\n\u001b[1;32m    850\u001b[0m                     for (cand_idx, parameters), (split_idx, (train, test)) in product(\n\u001b[0;32m--> 851\u001b[0;31m                         \u001b[0menumerate\u001b[0m\u001b[0;34m(\u001b[0m\u001b[0mcandidate_params\u001b[0m\u001b[0;34m)\u001b[0m\u001b[0;34m,\u001b[0m \u001b[0menumerate\u001b[0m\u001b[0;34m(\u001b[0m\u001b[0mcv\u001b[0m\u001b[0;34m.\u001b[0m\u001b[0msplit\u001b[0m\u001b[0;34m(\u001b[0m\u001b[0mX\u001b[0m\u001b[0;34m,\u001b[0m \u001b[0my\u001b[0m\u001b[0;34m,\u001b[0m \u001b[0mgroups\u001b[0m\u001b[0;34m)\u001b[0m\u001b[0;34m)\u001b[0m\u001b[0;34m\u001b[0m\u001b[0;34m\u001b[0m\u001b[0m\n\u001b[0m\u001b[1;32m    852\u001b[0m                     )\n\u001b[1;32m    853\u001b[0m                 )\n",
            "\u001b[0;32m/usr/local/lib/python3.7/dist-packages/joblib/parallel.py\u001b[0m in \u001b[0;36m__call__\u001b[0;34m(self, iterable)\u001b[0m\n\u001b[1;32m   1044\u001b[0m                 \u001b[0mself\u001b[0m\u001b[0;34m.\u001b[0m\u001b[0m_iterating\u001b[0m \u001b[0;34m=\u001b[0m \u001b[0mself\u001b[0m\u001b[0;34m.\u001b[0m\u001b[0m_original_iterator\u001b[0m \u001b[0;32mis\u001b[0m \u001b[0;32mnot\u001b[0m \u001b[0;32mNone\u001b[0m\u001b[0;34m\u001b[0m\u001b[0;34m\u001b[0m\u001b[0m\n\u001b[1;32m   1045\u001b[0m \u001b[0;34m\u001b[0m\u001b[0m\n\u001b[0;32m-> 1046\u001b[0;31m             \u001b[0;32mwhile\u001b[0m \u001b[0mself\u001b[0m\u001b[0;34m.\u001b[0m\u001b[0mdispatch_one_batch\u001b[0m\u001b[0;34m(\u001b[0m\u001b[0miterator\u001b[0m\u001b[0;34m)\u001b[0m\u001b[0;34m:\u001b[0m\u001b[0;34m\u001b[0m\u001b[0;34m\u001b[0m\u001b[0m\n\u001b[0m\u001b[1;32m   1047\u001b[0m                 \u001b[0;32mpass\u001b[0m\u001b[0;34m\u001b[0m\u001b[0;34m\u001b[0m\u001b[0m\n\u001b[1;32m   1048\u001b[0m \u001b[0;34m\u001b[0m\u001b[0m\n",
            "\u001b[0;32m/usr/local/lib/python3.7/dist-packages/joblib/parallel.py\u001b[0m in \u001b[0;36mdispatch_one_batch\u001b[0;34m(self, iterator)\u001b[0m\n\u001b[1;32m    859\u001b[0m                 \u001b[0;32mreturn\u001b[0m \u001b[0;32mFalse\u001b[0m\u001b[0;34m\u001b[0m\u001b[0;34m\u001b[0m\u001b[0m\n\u001b[1;32m    860\u001b[0m             \u001b[0;32melse\u001b[0m\u001b[0;34m:\u001b[0m\u001b[0;34m\u001b[0m\u001b[0;34m\u001b[0m\u001b[0m\n\u001b[0;32m--> 861\u001b[0;31m                 \u001b[0mself\u001b[0m\u001b[0;34m.\u001b[0m\u001b[0m_dispatch\u001b[0m\u001b[0;34m(\u001b[0m\u001b[0mtasks\u001b[0m\u001b[0;34m)\u001b[0m\u001b[0;34m\u001b[0m\u001b[0;34m\u001b[0m\u001b[0m\n\u001b[0m\u001b[1;32m    862\u001b[0m                 \u001b[0;32mreturn\u001b[0m \u001b[0;32mTrue\u001b[0m\u001b[0;34m\u001b[0m\u001b[0;34m\u001b[0m\u001b[0m\n\u001b[1;32m    863\u001b[0m \u001b[0;34m\u001b[0m\u001b[0m\n",
            "\u001b[0;32m/usr/local/lib/python3.7/dist-packages/joblib/parallel.py\u001b[0m in \u001b[0;36m_dispatch\u001b[0;34m(self, batch)\u001b[0m\n\u001b[1;32m    777\u001b[0m         \u001b[0;32mwith\u001b[0m \u001b[0mself\u001b[0m\u001b[0;34m.\u001b[0m\u001b[0m_lock\u001b[0m\u001b[0;34m:\u001b[0m\u001b[0;34m\u001b[0m\u001b[0;34m\u001b[0m\u001b[0m\n\u001b[1;32m    778\u001b[0m             \u001b[0mjob_idx\u001b[0m \u001b[0;34m=\u001b[0m \u001b[0mlen\u001b[0m\u001b[0;34m(\u001b[0m\u001b[0mself\u001b[0m\u001b[0;34m.\u001b[0m\u001b[0m_jobs\u001b[0m\u001b[0;34m)\u001b[0m\u001b[0;34m\u001b[0m\u001b[0;34m\u001b[0m\u001b[0m\n\u001b[0;32m--> 779\u001b[0;31m             \u001b[0mjob\u001b[0m \u001b[0;34m=\u001b[0m \u001b[0mself\u001b[0m\u001b[0;34m.\u001b[0m\u001b[0m_backend\u001b[0m\u001b[0;34m.\u001b[0m\u001b[0mapply_async\u001b[0m\u001b[0;34m(\u001b[0m\u001b[0mbatch\u001b[0m\u001b[0;34m,\u001b[0m \u001b[0mcallback\u001b[0m\u001b[0;34m=\u001b[0m\u001b[0mcb\u001b[0m\u001b[0;34m)\u001b[0m\u001b[0;34m\u001b[0m\u001b[0;34m\u001b[0m\u001b[0m\n\u001b[0m\u001b[1;32m    780\u001b[0m             \u001b[0;31m# A job can complete so quickly than its callback is\u001b[0m\u001b[0;34m\u001b[0m\u001b[0;34m\u001b[0m\u001b[0;34m\u001b[0m\u001b[0m\n\u001b[1;32m    781\u001b[0m             \u001b[0;31m# called before we get here, causing self._jobs to\u001b[0m\u001b[0;34m\u001b[0m\u001b[0;34m\u001b[0m\u001b[0;34m\u001b[0m\u001b[0m\n",
            "\u001b[0;32m/usr/local/lib/python3.7/dist-packages/joblib/_parallel_backends.py\u001b[0m in \u001b[0;36mapply_async\u001b[0;34m(self, func, callback)\u001b[0m\n\u001b[1;32m    206\u001b[0m     \u001b[0;32mdef\u001b[0m \u001b[0mapply_async\u001b[0m\u001b[0;34m(\u001b[0m\u001b[0mself\u001b[0m\u001b[0;34m,\u001b[0m \u001b[0mfunc\u001b[0m\u001b[0;34m,\u001b[0m \u001b[0mcallback\u001b[0m\u001b[0;34m=\u001b[0m\u001b[0;32mNone\u001b[0m\u001b[0;34m)\u001b[0m\u001b[0;34m:\u001b[0m\u001b[0;34m\u001b[0m\u001b[0;34m\u001b[0m\u001b[0m\n\u001b[1;32m    207\u001b[0m         \u001b[0;34m\"\"\"Schedule a func to be run\"\"\"\u001b[0m\u001b[0;34m\u001b[0m\u001b[0;34m\u001b[0m\u001b[0m\n\u001b[0;32m--> 208\u001b[0;31m         \u001b[0mresult\u001b[0m \u001b[0;34m=\u001b[0m \u001b[0mImmediateResult\u001b[0m\u001b[0;34m(\u001b[0m\u001b[0mfunc\u001b[0m\u001b[0;34m)\u001b[0m\u001b[0;34m\u001b[0m\u001b[0;34m\u001b[0m\u001b[0m\n\u001b[0m\u001b[1;32m    209\u001b[0m         \u001b[0;32mif\u001b[0m \u001b[0mcallback\u001b[0m\u001b[0;34m:\u001b[0m\u001b[0;34m\u001b[0m\u001b[0;34m\u001b[0m\u001b[0m\n\u001b[1;32m    210\u001b[0m             \u001b[0mcallback\u001b[0m\u001b[0;34m(\u001b[0m\u001b[0mresult\u001b[0m\u001b[0;34m)\u001b[0m\u001b[0;34m\u001b[0m\u001b[0;34m\u001b[0m\u001b[0m\n",
            "\u001b[0;32m/usr/local/lib/python3.7/dist-packages/joblib/_parallel_backends.py\u001b[0m in \u001b[0;36m__init__\u001b[0;34m(self, batch)\u001b[0m\n\u001b[1;32m    570\u001b[0m         \u001b[0;31m# Don't delay the application, to avoid keeping the input\u001b[0m\u001b[0;34m\u001b[0m\u001b[0;34m\u001b[0m\u001b[0;34m\u001b[0m\u001b[0m\n\u001b[1;32m    571\u001b[0m         \u001b[0;31m# arguments in memory\u001b[0m\u001b[0;34m\u001b[0m\u001b[0;34m\u001b[0m\u001b[0;34m\u001b[0m\u001b[0m\n\u001b[0;32m--> 572\u001b[0;31m         \u001b[0mself\u001b[0m\u001b[0;34m.\u001b[0m\u001b[0mresults\u001b[0m \u001b[0;34m=\u001b[0m \u001b[0mbatch\u001b[0m\u001b[0;34m(\u001b[0m\u001b[0;34m)\u001b[0m\u001b[0;34m\u001b[0m\u001b[0;34m\u001b[0m\u001b[0m\n\u001b[0m\u001b[1;32m    573\u001b[0m \u001b[0;34m\u001b[0m\u001b[0m\n\u001b[1;32m    574\u001b[0m     \u001b[0;32mdef\u001b[0m \u001b[0mget\u001b[0m\u001b[0;34m(\u001b[0m\u001b[0mself\u001b[0m\u001b[0;34m)\u001b[0m\u001b[0;34m:\u001b[0m\u001b[0;34m\u001b[0m\u001b[0;34m\u001b[0m\u001b[0m\n",
            "\u001b[0;32m/usr/local/lib/python3.7/dist-packages/joblib/parallel.py\u001b[0m in \u001b[0;36m__call__\u001b[0;34m(self)\u001b[0m\n\u001b[1;32m    261\u001b[0m         \u001b[0;32mwith\u001b[0m \u001b[0mparallel_backend\u001b[0m\u001b[0;34m(\u001b[0m\u001b[0mself\u001b[0m\u001b[0;34m.\u001b[0m\u001b[0m_backend\u001b[0m\u001b[0;34m,\u001b[0m \u001b[0mn_jobs\u001b[0m\u001b[0;34m=\u001b[0m\u001b[0mself\u001b[0m\u001b[0;34m.\u001b[0m\u001b[0m_n_jobs\u001b[0m\u001b[0;34m)\u001b[0m\u001b[0;34m:\u001b[0m\u001b[0;34m\u001b[0m\u001b[0;34m\u001b[0m\u001b[0m\n\u001b[1;32m    262\u001b[0m             return [func(*args, **kwargs)\n\u001b[0;32m--> 263\u001b[0;31m                     for func, args, kwargs in self.items]\n\u001b[0m\u001b[1;32m    264\u001b[0m \u001b[0;34m\u001b[0m\u001b[0m\n\u001b[1;32m    265\u001b[0m     \u001b[0;32mdef\u001b[0m \u001b[0m__reduce__\u001b[0m\u001b[0;34m(\u001b[0m\u001b[0mself\u001b[0m\u001b[0;34m)\u001b[0m\u001b[0;34m:\u001b[0m\u001b[0;34m\u001b[0m\u001b[0;34m\u001b[0m\u001b[0m\n",
            "\u001b[0;32m/usr/local/lib/python3.7/dist-packages/joblib/parallel.py\u001b[0m in \u001b[0;36m<listcomp>\u001b[0;34m(.0)\u001b[0m\n\u001b[1;32m    261\u001b[0m         \u001b[0;32mwith\u001b[0m \u001b[0mparallel_backend\u001b[0m\u001b[0;34m(\u001b[0m\u001b[0mself\u001b[0m\u001b[0;34m.\u001b[0m\u001b[0m_backend\u001b[0m\u001b[0;34m,\u001b[0m \u001b[0mn_jobs\u001b[0m\u001b[0;34m=\u001b[0m\u001b[0mself\u001b[0m\u001b[0;34m.\u001b[0m\u001b[0m_n_jobs\u001b[0m\u001b[0;34m)\u001b[0m\u001b[0;34m:\u001b[0m\u001b[0;34m\u001b[0m\u001b[0;34m\u001b[0m\u001b[0m\n\u001b[1;32m    262\u001b[0m             return [func(*args, **kwargs)\n\u001b[0;32m--> 263\u001b[0;31m                     for func, args, kwargs in self.items]\n\u001b[0m\u001b[1;32m    264\u001b[0m \u001b[0;34m\u001b[0m\u001b[0m\n\u001b[1;32m    265\u001b[0m     \u001b[0;32mdef\u001b[0m \u001b[0m__reduce__\u001b[0m\u001b[0;34m(\u001b[0m\u001b[0mself\u001b[0m\u001b[0;34m)\u001b[0m\u001b[0;34m:\u001b[0m\u001b[0;34m\u001b[0m\u001b[0;34m\u001b[0m\u001b[0m\n",
            "\u001b[0;32m/usr/local/lib/python3.7/dist-packages/sklearn/utils/fixes.py\u001b[0m in \u001b[0;36m__call__\u001b[0;34m(self, *args, **kwargs)\u001b[0m\n\u001b[1;32m    214\u001b[0m     \u001b[0;32mdef\u001b[0m \u001b[0m__call__\u001b[0m\u001b[0;34m(\u001b[0m\u001b[0mself\u001b[0m\u001b[0;34m,\u001b[0m \u001b[0;34m*\u001b[0m\u001b[0margs\u001b[0m\u001b[0;34m,\u001b[0m \u001b[0;34m**\u001b[0m\u001b[0mkwargs\u001b[0m\u001b[0;34m)\u001b[0m\u001b[0;34m:\u001b[0m\u001b[0;34m\u001b[0m\u001b[0;34m\u001b[0m\u001b[0m\n\u001b[1;32m    215\u001b[0m         \u001b[0;32mwith\u001b[0m \u001b[0mconfig_context\u001b[0m\u001b[0;34m(\u001b[0m\u001b[0;34m**\u001b[0m\u001b[0mself\u001b[0m\u001b[0;34m.\u001b[0m\u001b[0mconfig\u001b[0m\u001b[0;34m)\u001b[0m\u001b[0;34m:\u001b[0m\u001b[0;34m\u001b[0m\u001b[0;34m\u001b[0m\u001b[0m\n\u001b[0;32m--> 216\u001b[0;31m             \u001b[0;32mreturn\u001b[0m \u001b[0mself\u001b[0m\u001b[0;34m.\u001b[0m\u001b[0mfunction\u001b[0m\u001b[0;34m(\u001b[0m\u001b[0;34m*\u001b[0m\u001b[0margs\u001b[0m\u001b[0;34m,\u001b[0m \u001b[0;34m**\u001b[0m\u001b[0mkwargs\u001b[0m\u001b[0;34m)\u001b[0m\u001b[0;34m\u001b[0m\u001b[0;34m\u001b[0m\u001b[0m\n\u001b[0m\u001b[1;32m    217\u001b[0m \u001b[0;34m\u001b[0m\u001b[0m\n\u001b[1;32m    218\u001b[0m \u001b[0;34m\u001b[0m\u001b[0m\n",
            "\u001b[0;32m/usr/local/lib/python3.7/dist-packages/sklearn/model_selection/_validation.py\u001b[0m in \u001b[0;36m_fit_and_score\u001b[0;34m(estimator, X, y, scorer, train, test, verbose, parameters, fit_params, return_train_score, return_parameters, return_n_test_samples, return_times, return_estimator, split_progress, candidate_progress, error_score)\u001b[0m\n\u001b[1;32m    678\u001b[0m             \u001b[0mestimator\u001b[0m\u001b[0;34m.\u001b[0m\u001b[0mfit\u001b[0m\u001b[0;34m(\u001b[0m\u001b[0mX_train\u001b[0m\u001b[0;34m,\u001b[0m \u001b[0;34m**\u001b[0m\u001b[0mfit_params\u001b[0m\u001b[0;34m)\u001b[0m\u001b[0;34m\u001b[0m\u001b[0;34m\u001b[0m\u001b[0m\n\u001b[1;32m    679\u001b[0m         \u001b[0;32melse\u001b[0m\u001b[0;34m:\u001b[0m\u001b[0;34m\u001b[0m\u001b[0;34m\u001b[0m\u001b[0m\n\u001b[0;32m--> 680\u001b[0;31m             \u001b[0mestimator\u001b[0m\u001b[0;34m.\u001b[0m\u001b[0mfit\u001b[0m\u001b[0;34m(\u001b[0m\u001b[0mX_train\u001b[0m\u001b[0;34m,\u001b[0m \u001b[0my_train\u001b[0m\u001b[0;34m,\u001b[0m \u001b[0;34m**\u001b[0m\u001b[0mfit_params\u001b[0m\u001b[0;34m)\u001b[0m\u001b[0;34m\u001b[0m\u001b[0;34m\u001b[0m\u001b[0m\n\u001b[0m\u001b[1;32m    681\u001b[0m \u001b[0;34m\u001b[0m\u001b[0m\n\u001b[1;32m    682\u001b[0m     \u001b[0;32mexcept\u001b[0m \u001b[0mException\u001b[0m\u001b[0;34m:\u001b[0m\u001b[0;34m\u001b[0m\u001b[0;34m\u001b[0m\u001b[0m\n",
            "\u001b[0;32m/usr/local/lib/python3.7/dist-packages/sklearn/svm/_base.py\u001b[0m in \u001b[0;36mfit\u001b[0;34m(self, X, y, sample_weight)\u001b[0m\n\u001b[1;32m    253\u001b[0m \u001b[0;34m\u001b[0m\u001b[0m\n\u001b[1;32m    254\u001b[0m         \u001b[0mseed\u001b[0m \u001b[0;34m=\u001b[0m \u001b[0mrnd\u001b[0m\u001b[0;34m.\u001b[0m\u001b[0mrandint\u001b[0m\u001b[0;34m(\u001b[0m\u001b[0mnp\u001b[0m\u001b[0;34m.\u001b[0m\u001b[0miinfo\u001b[0m\u001b[0;34m(\u001b[0m\u001b[0;34m\"i\"\u001b[0m\u001b[0;34m)\u001b[0m\u001b[0;34m.\u001b[0m\u001b[0mmax\u001b[0m\u001b[0;34m)\u001b[0m\u001b[0;34m\u001b[0m\u001b[0;34m\u001b[0m\u001b[0m\n\u001b[0;32m--> 255\u001b[0;31m         \u001b[0mfit\u001b[0m\u001b[0;34m(\u001b[0m\u001b[0mX\u001b[0m\u001b[0;34m,\u001b[0m \u001b[0my\u001b[0m\u001b[0;34m,\u001b[0m \u001b[0msample_weight\u001b[0m\u001b[0;34m,\u001b[0m \u001b[0msolver_type\u001b[0m\u001b[0;34m,\u001b[0m \u001b[0mkernel\u001b[0m\u001b[0;34m,\u001b[0m \u001b[0mrandom_seed\u001b[0m\u001b[0;34m=\u001b[0m\u001b[0mseed\u001b[0m\u001b[0;34m)\u001b[0m\u001b[0;34m\u001b[0m\u001b[0;34m\u001b[0m\u001b[0m\n\u001b[0m\u001b[1;32m    256\u001b[0m         \u001b[0;31m# see comment on the other call to np.iinfo in this file\u001b[0m\u001b[0;34m\u001b[0m\u001b[0;34m\u001b[0m\u001b[0;34m\u001b[0m\u001b[0m\n\u001b[1;32m    257\u001b[0m \u001b[0;34m\u001b[0m\u001b[0m\n",
            "\u001b[0;32m/usr/local/lib/python3.7/dist-packages/sklearn/svm/_base.py\u001b[0m in \u001b[0;36m_dense_fit\u001b[0;34m(self, X, y, sample_weight, solver_type, kernel, random_seed)\u001b[0m\n\u001b[1;32m    331\u001b[0m             \u001b[0mepsilon\u001b[0m\u001b[0;34m=\u001b[0m\u001b[0mself\u001b[0m\u001b[0;34m.\u001b[0m\u001b[0mepsilon\u001b[0m\u001b[0;34m,\u001b[0m\u001b[0;34m\u001b[0m\u001b[0;34m\u001b[0m\u001b[0m\n\u001b[1;32m    332\u001b[0m             \u001b[0mmax_iter\u001b[0m\u001b[0;34m=\u001b[0m\u001b[0mself\u001b[0m\u001b[0;34m.\u001b[0m\u001b[0mmax_iter\u001b[0m\u001b[0;34m,\u001b[0m\u001b[0;34m\u001b[0m\u001b[0;34m\u001b[0m\u001b[0m\n\u001b[0;32m--> 333\u001b[0;31m             \u001b[0mrandom_seed\u001b[0m\u001b[0;34m=\u001b[0m\u001b[0mrandom_seed\u001b[0m\u001b[0;34m,\u001b[0m\u001b[0;34m\u001b[0m\u001b[0;34m\u001b[0m\u001b[0m\n\u001b[0m\u001b[1;32m    334\u001b[0m         )\n\u001b[1;32m    335\u001b[0m \u001b[0;34m\u001b[0m\u001b[0m\n",
            "\u001b[0;31mKeyboardInterrupt\u001b[0m: "
          ]
        }
      ],
      "source": [
        "class_model_params = {\n",
        "    'svm': {\n",
        "        'model': SVC(tol=0.0001),\n",
        "        'params' : {\n",
        "            'C': [1,2,4,6,8,10,12,14,16,18,20],\n",
        "            'kernel': ['linear','rbf','sigmoid'],\n",
        "            'gamma': ['auto','scale']\n",
        "        }  \n",
        "    },\n",
        "    'logistic_regression' : {\n",
        "        'model': LogisticRegression(solver='liblinear',multi_class='auto'),\n",
        "        'params': {\n",
        "            'C': [1,2,4,6,8,10,12,14,16,18,20]\n",
        "        }\n",
        "    },\n",
        "    'kneighbors_classifier': {\n",
        "        'model': KNeighborsClassifier(),\n",
        "        'params': {\n",
        "            'n_neighbors': [5,10,15],\n",
        "            'algorithm': ['auto','ball_tree','kd_tree']\n",
        "        }\n",
        "    },\n",
        "    'decision_tree': {\n",
        "        'model': DecisionTreeClassifier(),\n",
        "        'params': {\n",
        "            'criterion': ['gini','entropy'],\n",
        "            'splitter': ['best','random']\n",
        "        }\n",
        "    }     \n",
        "}\n",
        "scores_1 = []\n",
        "for model_name_1, mp_1 in class_model_params.items():\n",
        "    clf_1 = GridSearchCV(mp_1['model'], mp_1['params'], scoring='f1',cv=5)\n",
        "    clf_1.fit(train_df.drop(columns=['target_1', 'target_2']), train_df['target_2'])\n",
        "    scores_1.append({\n",
        "        'model': model_name_1,\n",
        "        'best_score': clf_1.best_score_,\n",
        "        'best_params': clf_1.best_params_\n",
        "    })\n",
        "    \n",
        "df_1 = pd.DataFrame(scores_1,columns=['model','best_score','best_params'])\n",
        "\n",
        "reg_model_params = {\n",
        "    'linear_regression': {\n",
        "        'model': LinearRegression(),\n",
        "        'params' : {\n",
        "            'fit_intercept': ['True','False']\n",
        "        }  \n",
        "    },\n",
        "    'decision_tree_regressor' : {\n",
        "        'model': DecisionTreeRegressor(),\n",
        "        'params': {\n",
        "            \n",
        "        }\n",
        "    },\n",
        "    'kneighbors_regressor': {\n",
        "        'model': KNeighborsRegressor(),\n",
        "        'params': {\n",
        "            'n_neighbors': [5,10,15],\n",
        "            'algorithm': ['auto','ball_tree','kd_tree']\n",
        "        }\n",
        "    }    \n",
        "}\n",
        "scores_2 = []\n",
        "for model_name_2, mp_2 in reg_model_params.items():\n",
        "    clf_2 = GridSearchCV(mp_2['model'], mp_2['params'], scoring='neg_mean_squared_error',cv=5)\n",
        "    clf_2.fit(train_df.drop(columns=['target_1', 'target_2']), train_df['target_1'])\n",
        "    scores_2.append({\n",
        "        'model': model_name_2,\n",
        "        'best_score': clf_2.best_score_,\n",
        "        'best_params': clf_2.best_params_\n",
        "    })\n",
        "    \n",
        "df_2 = pd.DataFrame(scores_2,columns=['model','best_score','best_params'])"
      ]
    },
    {
      "cell_type": "code",
      "source": [
        "df_1\n",
        "df_2"
      ],
      "metadata": {
        "colab": {
          "base_uri": "https://localhost:8080/",
          "height": 143
        },
        "id": "GvO9IJE6tkie",
        "outputId": "b917c9e9-48ae-47bd-c172-45cf659a2173"
      },
      "id": "GvO9IJE6tkie",
      "execution_count": 45,
      "outputs": [
        {
          "output_type": "execute_result",
          "data": {
            "text/plain": [
              "                     model  best_score best_params\n",
              "0        linear_regression   -0.000488          {}\n",
              "1  decision_tree_regressor   -0.000418          {}\n",
              "2     kneighbors_regressor   -0.000681          {}"
            ],
            "text/html": [
              "\n",
              "  <div id=\"df-5875407c-00d6-4e42-82c0-eeded7070331\">\n",
              "    <div class=\"colab-df-container\">\n",
              "      <div>\n",
              "<style scoped>\n",
              "    .dataframe tbody tr th:only-of-type {\n",
              "        vertical-align: middle;\n",
              "    }\n",
              "\n",
              "    .dataframe tbody tr th {\n",
              "        vertical-align: top;\n",
              "    }\n",
              "\n",
              "    .dataframe thead th {\n",
              "        text-align: right;\n",
              "    }\n",
              "</style>\n",
              "<table border=\"1\" class=\"dataframe\">\n",
              "  <thead>\n",
              "    <tr style=\"text-align: right;\">\n",
              "      <th></th>\n",
              "      <th>model</th>\n",
              "      <th>best_score</th>\n",
              "      <th>best_params</th>\n",
              "    </tr>\n",
              "  </thead>\n",
              "  <tbody>\n",
              "    <tr>\n",
              "      <th>0</th>\n",
              "      <td>linear_regression</td>\n",
              "      <td>-0.000488</td>\n",
              "      <td>{}</td>\n",
              "    </tr>\n",
              "    <tr>\n",
              "      <th>1</th>\n",
              "      <td>decision_tree_regressor</td>\n",
              "      <td>-0.000418</td>\n",
              "      <td>{}</td>\n",
              "    </tr>\n",
              "    <tr>\n",
              "      <th>2</th>\n",
              "      <td>kneighbors_regressor</td>\n",
              "      <td>-0.000681</td>\n",
              "      <td>{}</td>\n",
              "    </tr>\n",
              "  </tbody>\n",
              "</table>\n",
              "</div>\n",
              "      <button class=\"colab-df-convert\" onclick=\"convertToInteractive('df-5875407c-00d6-4e42-82c0-eeded7070331')\"\n",
              "              title=\"Convert this dataframe to an interactive table.\"\n",
              "              style=\"display:none;\">\n",
              "        \n",
              "  <svg xmlns=\"http://www.w3.org/2000/svg\" height=\"24px\"viewBox=\"0 0 24 24\"\n",
              "       width=\"24px\">\n",
              "    <path d=\"M0 0h24v24H0V0z\" fill=\"none\"/>\n",
              "    <path d=\"M18.56 5.44l.94 2.06.94-2.06 2.06-.94-2.06-.94-.94-2.06-.94 2.06-2.06.94zm-11 1L8.5 8.5l.94-2.06 2.06-.94-2.06-.94L8.5 2.5l-.94 2.06-2.06.94zm10 10l.94 2.06.94-2.06 2.06-.94-2.06-.94-.94-2.06-.94 2.06-2.06.94z\"/><path d=\"M17.41 7.96l-1.37-1.37c-.4-.4-.92-.59-1.43-.59-.52 0-1.04.2-1.43.59L10.3 9.45l-7.72 7.72c-.78.78-.78 2.05 0 2.83L4 21.41c.39.39.9.59 1.41.59.51 0 1.02-.2 1.41-.59l7.78-7.78 2.81-2.81c.8-.78.8-2.07 0-2.86zM5.41 20L4 18.59l7.72-7.72 1.47 1.35L5.41 20z\"/>\n",
              "  </svg>\n",
              "      </button>\n",
              "      \n",
              "  <style>\n",
              "    .colab-df-container {\n",
              "      display:flex;\n",
              "      flex-wrap:wrap;\n",
              "      gap: 12px;\n",
              "    }\n",
              "\n",
              "    .colab-df-convert {\n",
              "      background-color: #E8F0FE;\n",
              "      border: none;\n",
              "      border-radius: 50%;\n",
              "      cursor: pointer;\n",
              "      display: none;\n",
              "      fill: #1967D2;\n",
              "      height: 32px;\n",
              "      padding: 0 0 0 0;\n",
              "      width: 32px;\n",
              "    }\n",
              "\n",
              "    .colab-df-convert:hover {\n",
              "      background-color: #E2EBFA;\n",
              "      box-shadow: 0px 1px 2px rgba(60, 64, 67, 0.3), 0px 1px 3px 1px rgba(60, 64, 67, 0.15);\n",
              "      fill: #174EA6;\n",
              "    }\n",
              "\n",
              "    [theme=dark] .colab-df-convert {\n",
              "      background-color: #3B4455;\n",
              "      fill: #D2E3FC;\n",
              "    }\n",
              "\n",
              "    [theme=dark] .colab-df-convert:hover {\n",
              "      background-color: #434B5C;\n",
              "      box-shadow: 0px 1px 3px 1px rgba(0, 0, 0, 0.15);\n",
              "      filter: drop-shadow(0px 1px 2px rgba(0, 0, 0, 0.3));\n",
              "      fill: #FFFFFF;\n",
              "    }\n",
              "  </style>\n",
              "\n",
              "      <script>\n",
              "        const buttonEl =\n",
              "          document.querySelector('#df-5875407c-00d6-4e42-82c0-eeded7070331 button.colab-df-convert');\n",
              "        buttonEl.style.display =\n",
              "          google.colab.kernel.accessAllowed ? 'block' : 'none';\n",
              "\n",
              "        async function convertToInteractive(key) {\n",
              "          const element = document.querySelector('#df-5875407c-00d6-4e42-82c0-eeded7070331');\n",
              "          const dataTable =\n",
              "            await google.colab.kernel.invokeFunction('convertToInteractive',\n",
              "                                                     [key], {});\n",
              "          if (!dataTable) return;\n",
              "\n",
              "          const docLinkHtml = 'Like what you see? Visit the ' +\n",
              "            '<a target=\"_blank\" href=https://colab.research.google.com/notebooks/data_table.ipynb>data table notebook</a>'\n",
              "            + ' to learn more about interactive tables.';\n",
              "          element.innerHTML = '';\n",
              "          dataTable['output_type'] = 'display_data';\n",
              "          await google.colab.output.renderOutput(dataTable, element);\n",
              "          const docLink = document.createElement('div');\n",
              "          docLink.innerHTML = docLinkHtml;\n",
              "          element.appendChild(docLink);\n",
              "        }\n",
              "      </script>\n",
              "    </div>\n",
              "  </div>\n",
              "  "
            ]
          },
          "metadata": {},
          "execution_count": 45
        }
      ]
    },
    {
      "cell_type": "code",
      "source": [
        "train_df['target_1'][6999]"
      ],
      "metadata": {
        "colab": {
          "base_uri": "https://localhost:8080/"
        },
        "id": "6SP5a64DJTYd",
        "outputId": "cc1b3582-c4b5-42fb-d942-a3789630bf4a"
      },
      "id": "6SP5a64DJTYd",
      "execution_count": 65,
      "outputs": [
        {
          "output_type": "execute_result",
          "data": {
            "text/plain": [
              "0.0099537878215043"
            ]
          },
          "metadata": {},
          "execution_count": 65
        }
      ]
    },
    {
      "cell_type": "code",
      "source": [
        "train_df.drop(columns=['target_1', 'target_2']).feature_1"
      ],
      "metadata": {
        "colab": {
          "base_uri": "https://localhost:8080/"
        },
        "id": "fOTSEkRfJ0eY",
        "outputId": "1ded9e5b-4006-4b56-e4d0-ba66f4e6efc1"
      },
      "id": "fOTSEkRfJ0eY",
      "execution_count": 68,
      "outputs": [
        {
          "output_type": "execute_result",
          "data": {
            "text/plain": [
              "0       6.407428\n",
              "1       8.788656\n",
              "2       4.483505\n",
              "3       4.142830\n",
              "4       2.343442\n",
              "          ...   \n",
              "6995    2.122011\n",
              "6996    6.630586\n",
              "6997    5.588898\n",
              "6998    5.194050\n",
              "6999    1.234296\n",
              "Name: feature_1, Length: 7000, dtype: float64"
            ]
          },
          "metadata": {},
          "execution_count": 68
        }
      ]
    }
  ],
  "metadata": {
    "kernelspec": {
      "display_name": "Python 3 (ipykernel)",
      "language": "python",
      "name": "python3"
    },
    "language_info": {
      "codemirror_mode": {
        "name": "ipython",
        "version": 3
      },
      "file_extension": ".py",
      "mimetype": "text/x-python",
      "name": "python",
      "nbconvert_exporter": "python",
      "pygments_lexer": "ipython3",
      "version": "3.9.10"
    },
    "colab": {
      "name": "Copy of Basics ML промежуточный результат.ipynb",
      "provenance": [],
      "collapsed_sections": [
        "f01f0e7c",
        "7df709dd",
        "5db72cfe",
        "18e920f5"
      ]
    }
  },
  "nbformat": 4,
  "nbformat_minor": 5
}